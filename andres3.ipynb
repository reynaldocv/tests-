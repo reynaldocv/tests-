{
 "cells": [
  {
   "cell_type": "code",
   "execution_count": 10,
   "id": "0f5ff5e6",
   "metadata": {},
   "outputs": [
    {
     "name": "stdout",
     "output_type": "stream",
     "text": [
      "[9, 5, 3, 10]\n",
      "[3, 5, 9, 10]\n",
      "------------\n",
      "[70, 50, 9, 5, 3, 12, 11, 23, 10]\n",
      "[70, 50, 3, 5, 9, 12, 11, 23, 10]\n"
     ]
    }
   ],
   "source": [
    "x = [70,50,9,5,3, 12,11,23,10]\n",
    "z = []\n",
    "\n",
    "for i in range(0,len(x)):\n",
    "    if x[i] <= 10:\n",
    "        z.append(x[i])\n",
    "        \n",
    "print(z)\n",
    "\n",
    "for i in range(1,len(z)):\n",
    "    key = z[i]\n",
    "    j = i - 1\n",
    "    while j >= 0 and key < z[j]:\n",
    "        z[j + 1] = z[j]\n",
    "        j = j - 1\n",
    "        z[j + 1] = key\n",
    "        \n",
    "print(z)\n",
    "\n",
    "idx = 0 \n",
    "y = []\n",
    "\n",
    "for i in range(0, len(x)):\n",
    "    if x[i] > 10: \n",
    "        y.append(x[i])\n",
    "        \n",
    "    else: \n",
    "        y.append(z[idx])        \n",
    "        idx += 1 # idx = idx + 1\n",
    "\n",
    "print(\"------------\")\n",
    "print(x)\n",
    "print(y)\n"
   ]
  },
  {
   "cell_type": "code",
   "execution_count": 13,
   "id": "34ae3d17",
   "metadata": {},
   "outputs": [
    {
     "name": "stdout",
     "output_type": "stream",
     "text": [
      "[9, 5, 3, 10]\n",
      "[70, 50, 9, 5, 3, 12, 11, 23, 10]\n",
      "[3, 5, 9, 10, 70, 50, 12, 11, 23]\n"
     ]
    }
   ],
   "source": [
    "x = [70,50,9,5,3, 12,11,23,10]\n",
    "\n",
    "z = []\n",
    "\n",
    "for i in range(0,len(x)):\n",
    "    if x[i] <= 10:\n",
    "        z.append(x[i])\n",
    "        \n",
    "print(z)\n",
    "\n",
    "for i in range(1,len(z)):\n",
    "    key = z[i]\n",
    "    j = i - 1\n",
    "    while j >= 0 and key < z[j]:\n",
    "        z[j + 1] = z[j]\n",
    "        j = j - 1\n",
    "        z[j + 1] = key\n",
    "        \n",
    "\n",
    "for i in range(0, len(x)):\n",
    "    if x[i] > 10: \n",
    "        z.append(x[i])\n",
    "        \n",
    "print(x)\n",
    "print(z)"
   ]
  }
 ],
 "metadata": {
  "kernelspec": {
   "display_name": "Python 3 (ipykernel)",
   "language": "python",
   "name": "python3"
  },
  "language_info": {
   "codemirror_mode": {
    "name": "ipython",
    "version": 3
   },
   "file_extension": ".py",
   "mimetype": "text/x-python",
   "name": "python",
   "nbconvert_exporter": "python",
   "pygments_lexer": "ipython3",
   "version": "3.8.10"
  }
 },
 "nbformat": 4,
 "nbformat_minor": 5
}
